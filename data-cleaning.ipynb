{
 "cells": [
  {
   "cell_type": "markdown",
   "id": "2fa91097",
   "metadata": {},
   "source": [
    "## ACCIDENT\n",
    "\n",
    "First we will clean the table \"ACCIDENT\""
   ]
  },
  {
   "cell_type": "code",
   "execution_count": 137,
   "id": "916f33c4",
   "metadata": {
    "scrolled": true
   },
   "outputs": [
    {
     "name": "stdout",
     "output_type": "stream",
     "text": [
      "    ACCIDENT_NO ACCIDENTDATE                    ACCIDENTTIME  ACCIDENT_TYPE  \\\n",
      "0  T20060000010   13/01/2006  12:42:00                                    1   \n",
      "1  T20060000018   13/01/2006  19:10:00                                    1   \n",
      "2  T20060000022   14/01/2006  12:10:00                                    7   \n",
      "3  T20060000023   14/01/2006  11:49:00                                    1   \n",
      "4  T20060000026   14/01/2006  10:45:00                                    1   \n",
      "\n",
      "               Accident Type Desc  DAY_OF_WEEK Day Week Description  DCA_CODE  \\\n",
      "0          Collision with vehicle            6               Friday       113   \n",
      "1          Collision with vehicle            6               Friday       113   \n",
      "2  Fall from or in moving vehicle            7             Saturday       190   \n",
      "3          Collision with vehicle            7             Saturday       130   \n",
      "4          Collision with vehicle            7             Saturday       121   \n",
      "\n",
      "                                  DCA Description DIRECTORY  ... NO_PERSONS  \\\n",
      "0  RIGHT NEAR (INTERSECTIONS ONLY)                      MEL  ...          6   \n",
      "1  RIGHT NEAR (INTERSECTIONS ONLY)                      MEL  ...          4   \n",
      "2        FELL IN/FROM VEHICLE                           MEL  ...          2   \n",
      "3  REAR END(VEHICLES IN SAME LANE)                      MEL  ...          2   \n",
      "4           RIGHT THROUGH                               MEL  ...          3   \n",
      "\n",
      "  NO_PERSONS_INJ_2 NO_PERSONS_INJ_3 NO_PERSONS_KILLED  NO_PERSONS_NOT_INJ  \\\n",
      "0                0                1                 0                   5   \n",
      "1                0                1                 0                   3   \n",
      "2                1                0                 0                   1   \n",
      "3                1                0                 0                   1   \n",
      "4                0                3                 0                   0   \n",
      "\n",
      "  POLICE_ATTEND  ROAD_GEOMETRY   Road Geometry Desc  SEVERITY  SPEED_ZONE  \n",
      "0             1              1   Cross intersection         3          60  \n",
      "1             1              2       T intersection         3          70  \n",
      "2             1              5  Not at intersection         2         100  \n",
      "3             1              2       T intersection         2          80  \n",
      "4             1              5  Not at intersection         3          50  \n",
      "\n",
      "[5 rows x 28 columns]\n"
     ]
    },
    {
     "name": "stderr",
     "output_type": "stream",
     "text": [
      "/var/folders/7_/nk16gz096gg0rlsq1ysz80300000gn/T/ipykernel_5376/1679003723.py:4: DtypeWarning: Columns (10,13) have mixed types. Specify dtype option on import or set low_memory=False.\n",
      "  df = pd.read_csv(r'data/ACCIDENT.csv')\n"
     ]
    }
   ],
   "source": [
    "import pandas as pd\n",
    "import numpy as np\n",
    "\n",
    "df = pd.read_csv(r'data/ACCIDENT.csv')\n",
    "print(df.head())"
   ]
  },
  {
   "cell_type": "code",
   "execution_count": 146,
   "id": "71dce401",
   "metadata": {},
   "outputs": [
    {
     "name": "stdout",
     "output_type": "stream",
     "text": [
      "Accident null:  False\n",
      "All date are valid:  True\n",
      "All time are valid:  True\n",
      "Accident type null:  False , equal desc length:  True\n",
      "Day of week null:  False , equal desc length:  False\n",
      "DCA null:  False , equal desc length:  True\n",
      "Light condition null:  False , equal desc length:  True\n",
      "Nodes null / smaller than 0:  False True\n",
      "No of vehicles null / not a number:  False False\n",
      "No of persons null / not a number:  False False\n",
      "No of persons injured 2 null / not a number:  False False\n",
      "No of persons injured 3 null/ not a number:  False False\n",
      "No of persons killed null/ not a number:  False False\n",
      "No of persons not injured null / not a number:  False False\n",
      "No of polices attended null/ not a number:  False False\n",
      "Severity null/ not a number:  False False\n",
      "Road geometry null:  False , equal desc length:  True\n",
      "Speed zone null/ not a number:  False False\n"
     ]
    }
   ],
   "source": [
    "print(\"Accident null: \", df['ACCIDENT_NO'].isnull().any())\n",
    "\n",
    "print(\"All date are valid: \", pd.to_datetime(df['ACCIDENTDATE'], dayfirst= True, errors='coerce').notnull().all())\n",
    "\n",
    "print(\"All time are valid: \", pd.to_datetime(df['ACCIDENTTIME'], dayfirst= True, errors='coerce').notnull().all())\n",
    "\n",
    "print(\"Accident type null: \", df['ACCIDENT_TYPE'].isnull().any(), \", equal desc length: \", len(df['ACCIDENT_TYPE'].unique()) == len(df['Accident Type Desc'].unique()))\n",
    "\n",
    "print(\"Day of week null: \", df['DAY_OF_WEEK'].isnull().any(), \", equal desc length: \",len(df['DAY_OF_WEEK'].unique()) == len(df['Day Week Description'].unique()))\n",
    "\n",
    "print(\"DCA null: \", df['DCA_CODE'].isnull().any(), \", equal desc length: \",len(df['DCA_CODE'].unique()) == len(df['DCA Description'].unique()))\n",
    "\n",
    "print(\"Light condition null: \", df['LIGHT_CONDITION'].isnull().any(), \", equal desc length: \",len(df['LIGHT_CONDITION'].unique()) == len(df['Light Condition Desc'].unique()))\n",
    "\n",
    "print(\"Nodes null / smaller than 0: \", df['NODE_ID'].isnull().any(), (df['NODE_ID'] <= 0).any())\n",
    "\n",
    "print(\"No of vehicles null / not a number: \", df['NO_OF_VEHICLES'].isnull().any(), pd.to_numeric(df['NO_OF_VEHICLES'], errors='coerce').isnull().any())\n",
    "\n",
    "print(\"No of persons null / not a number: \", df['NO_PERSONS'].isnull().any(), pd.to_numeric(df['NO_PERSONS'], errors='coerce').isnull().any())\n",
    "\n",
    "print(\"No of persons injured 2 null / not a number: \", df['NO_PERSONS_INJ_2'].isnull().any(), pd.to_numeric(df['NO_PERSONS_INJ_2'], errors='coerce').isnull().any())\n",
    "\n",
    "print(\"No of persons injured 3 null/ not a number: \", df['NO_PERSONS_INJ_3'].isnull().any(), pd.to_numeric(df['NO_PERSONS_INJ_3'], errors='coerce').isnull().any())\n",
    "\n",
    "print(\"No of persons killed null/ not a number: \", df['NO_PERSONS_KILLED'].isnull().any(), pd.to_numeric(df['NO_PERSONS_KILLED'], errors='coerce').isnull().any())\n",
    "\n",
    "print(\"No of persons not injured null / not a number: \", df['NO_PERSONS_NOT_INJ'].isnull().any(), pd.to_numeric(df['NO_PERSONS_NOT_INJ'], errors='coerce').isnull().any())\n",
    "\n",
    "print(\"No of polices attended null/ not a number: \", df['POLICE_ATTEND'].isnull().any(), pd.to_numeric(df['POLICE_ATTEND'], errors='coerce').isnull().any())\n",
    "\n",
    "print(\"Severity null/ not a number: \", df['SEVERITY'].isnull().any(), pd.to_numeric(df['SEVERITY'], errors='coerce').isnull().any())\n",
    "\n",
    "print(\"Road geometry null: \", df['ROAD_GEOMETRY'].isnull().any(), \", equal desc length: \", len(df['ROAD_GEOMETRY'].unique()) == len(df['ROAD_GEOMETRY'].unique()))\n",
    "\n",
    "print(\"Speed zone null/ not a number: \", df['SPEED_ZONE'].isnull().any(), pd.to_numeric(df['SPEED_ZONE'], errors='coerce').isnull().any())"
   ]
  },
  {
   "cell_type": "markdown",
   "id": "0f6818a8",
   "metadata": {},
   "source": [
    "We observe that there a some problems with the given dataset:\n",
    "- Day of week: 0 and 1 are both given to Sunday\n",
    "- Node ID: Contain negative values\n",
    "\n",
    "We fix this as following:"
   ]
  },
  {
   "cell_type": "code",
   "execution_count": 4,
   "id": "e267e796",
   "metadata": {},
   "outputs": [],
   "source": [
    "df.loc[df['DAY_OF_WEEK'] == 0, ['DAY_OF_WEEK']] = 1\n",
    "\n",
    "df = df.loc[df['NODE_ID'] > 0]"
   ]
  },
  {
   "cell_type": "markdown",
   "id": "95202d47",
   "metadata": {},
   "source": [
    "## PERSON\n",
    "\n",
    "Now we'll move to table \"PERSON\""
   ]
  },
  {
   "cell_type": "code",
   "execution_count": 147,
   "id": "2c906cb7",
   "metadata": {},
   "outputs": [
    {
     "name": "stderr",
     "output_type": "stream",
     "text": [
      "/var/folders/7_/nk16gz096gg0rlsq1ysz80300000gn/T/ipykernel_5376/3970712805.py:1: DtypeWarning: Columns (6,9,10,13) have mixed types. Specify dtype option on import or set low_memory=False.\n",
      "  df = pd.read_csv(r'data/PERSON.csv')\n"
     ]
    },
    {
     "name": "stdout",
     "output_type": "stream",
     "text": [
      "    ACCIDENT_NO PERSON_ID VEHICLE_ID SEX   AGE Age Group INJ_LEVEL  \\\n",
      "0  T20060000010        01          A   F   NaN   unknown         4   \n",
      "1  T20060000010        02          C   M  43.0     40-49         4   \n",
      "2  T20060000010        03          C   M  22.0     22-25         4   \n",
      "3  T20060000010        A           A   M  72.0       70+         4   \n",
      "4  T20060000010        B           B   F  62.0     60-64         3   \n",
      "\n",
      "  Inj Level Desc SEATING_POSITION HELMET_BELT_WORN ROAD_USER_TYPE  \\\n",
      "0    Not injured               LF                1              3   \n",
      "1    Not injured               LF                1              3   \n",
      "2    Not injured               LR                1              3   \n",
      "3    Not injured               D                 1              2   \n",
      "4   Other injury               D                 1              2   \n",
      "\n",
      "  Road User Type Desc LICENCE_STATE PEDEST_MOVEMENT  POSTCODE TAKEN_HOSPITAL  \\\n",
      "0          Passengers                             0    3130.0                  \n",
      "1          Passengers                             0    7310.0                  \n",
      "2          Passengers                             0    7310.0                  \n",
      "3             Drivers             V               0    3130.0                  \n",
      "4             Drivers             V               0       NaN              N   \n",
      "\n",
      "  EJECTED_CODE  \n",
      "0            0  \n",
      "1            0  \n",
      "2            0  \n",
      "3            0  \n",
      "4            0  \n"
     ]
    }
   ],
   "source": [
    "df = pd.read_csv(r'data/PERSON.csv')\n",
    "print(df.head())"
   ]
  },
  {
   "cell_type": "code",
   "execution_count": null,
   "id": "a69ad9a2",
   "metadata": {},
   "outputs": [],
   "source": [
    "print(\"Accident null: \", df['ACCIDENT_NO'].isnull().any())\n",
    "\n",
    "print(\"Person ID null: \", df['PERSON_ID'].isnull().any())\n",
    "\n",
    "print(\"Vehicle ID null: \", df['VEHICLE_ID'].isnull().any())\n",
    "\n",
    "print(\"Sex null: \", df['SEX'].isnull().any(), \", not F/M/U: \", ((df['SEX'] != \"M\") & (df['SEX'] != \"F\") & (df['SEX'] != \"U\")).any())\n",
    "\n",
    "print(\"Age is NaN: \", pd.to_numeric(df['AGE'], errors='coerce').isnull().any())\n",
    "\n",
    "# AGE_GROUP\n",
    "\n",
    "print(\"Injured level is NaN: \", pd.to_numeric(df['INJ_LEVEL'], errors='coerce').isnull().any()))\n",
    "\n",
    "print(\"Seating position null or empty: \", df['SEATING_POSITION'].isnull() | df['SEATING_POSITION'].str.isspace())\n",
    "\n",
    "print(\"Road user type: null, empty or not a number: \", pd.to_numeric(df['ROAD_USER_TYPE'], errors='coerce').isnull().any())\n",
    "\n",
    "print(\"No of vehicles null / not a number: \", df['NO_OF_VEHICLES'].isnull().any(), pd.to_numeric(df['NO_OF_VEHICLES'], errors='coerce').isnull().any())\n",
    "\n",
    "print(\"No of persons null / not a number: \", df['NO_PERSONS'].isnull().any(), pd.to_numeric(df['NO_PERSONS'], errors='coerce').isnull().any())\n",
    "\n",
    "print(\"No of persons injured 2 null / not a number: \", df['NO_PERSONS_INJ_2'].isnull().any(), pd.to_numeric(df['NO_PERSONS_INJ_2'], errors='coerce').isnull().any())\n",
    "\n",
    "print(\"No of persons injured 3 null/ not a number: \", df['NO_PERSONS_INJ_3'].isnull().any(), pd.to_numeric(df['NO_PERSONS_INJ_3'], errors='coerce').isnull().any())\n",
    "\n",
    "print(\"No of persons killed null/ not a number: \", df['NO_PERSONS_KILLED'].isnull().any(), pd.to_numeric(df['NO_PERSONS_KILLED'], errors='coerce').isnull().any())\n",
    "\n",
    "print(\"No of persons not injured null / not a number: \", df['NO_PERSONS_NOT_INJ'].isnull().any(), pd.to_numeric(df['NO_PERSONS_NOT_INJ'], errors='coerce').isnull().any())\n",
    "\n",
    "print(\"No of polices attended null/ not a number: \", df['POLICE_ATTEND'].isnull().any(), pd.to_numeric(df['POLICE_ATTEND'], errors='coerce').isnull().any())\n",
    "\n",
    "print(\"Severity null/ not a number: \", df['SEVERITY'].isnull().any(), pd.to_numeric(df['SEVERITY'], errors='coerce').isnull().any())\n",
    "\n",
    "print(\"Road geometry null: \", df['ROAD_GEOMETRY'].isnull().any(), \", equal desc length: \", len(df['ROAD_GEOMETRY'].unique()) == len(df['ROAD_GEOMETRY'].unique()))\n"
   ]
  },
  {
   "cell_type": "code",
   "execution_count": 48,
   "id": "53f8f5e0",
   "metadata": {},
   "outputs": [],
   "source": [
    "df.loc[(df['SEX'] != \"M\") & (df['SEX'] != \"F\") & (df['SEX'] != \"U\"), ['SEX']] = \"U\"\n",
    "df.loc[pd.to_numeric(df['AGE'], errors='coerce').isnull(), 'AGE'] = -1\n",
    "\n",
    "df.loc[pd.to_numeric(df['INJ_LEVEL'], errors='coerce').isnull(), \"INJ_LEVEL\"] = -1\n",
    "\n",
    "df.loc[(df['SEATING_POSITION'].isnull() | df['SEATING_POSITION'].str.isspace()), \"SEATING_POSITION\"] = None\n",
    "\n",
    "df[pd.to_numeric(df['ROAD_USER_TYPE'], errors='coerce').isnull()] = 9\n",
    "df.loc[df['ROAD_USER_TYPE'] == 9, \"Road User Type Desc\"] = 'Unknown'\n",
    "df['ROAD_USER_TYPE'] = pd.to_numeric(df['ROAD_USER_TYPE'], errors='coerce')"
   ]
  },
  {
   "cell_type": "code",
   "execution_count": 149,
   "id": "9cc5b63a",
   "metadata": {},
   "outputs": [
    {
     "data": {
      "text/plain": [
       "array(['unknown', '40-49', '22-25', '70+', '60-64', '30-39', '17-21',\n",
       "       '50-59', '26-29', '16-17', '13-15', '5-12', '0-4', '64-69'],\n",
       "      dtype=object)"
      ]
     },
     "execution_count": 149,
     "metadata": {},
     "output_type": "execute_result"
    }
   ],
   "source": [
    "df['Age Group'].unique()"
   ]
  },
  {
   "cell_type": "code",
   "execution_count": 161,
   "id": "84aeeaaf",
   "metadata": {},
   "outputs": [],
   "source": [
    "conditions = [\n",
    "    df['AGE'].between(0, 4, inclusive = 'both'),\n",
    "    df['AGE'].between(5, 12, inclusive = 'both'),\n",
    "    df['AGE'].between(13, 15, inclusive = 'both'),\n",
    "    df['AGE'].between(16, 17, inclusive = 'both'),\n",
    "    df['AGE'].between(18, 21, inclusive = 'both'),\n",
    "    df['AGE'].between(22, 25, inclusive = 'both'),\n",
    "    df['AGE'].between(26, 29, inclusive = 'both'),\n",
    "    df['AGE'].between(30, 39, inclusive = 'both'),\n",
    "    df['AGE'].between(40, 49, inclusive = 'both'),\n",
    "    df['AGE'].between(50, 59, inclusive = 'both'),\n",
    "    df['AGE'].between(60, 64, inclusive = 'both'),\n",
    "    df['AGE'].between(65, 69, inclusive = 'both'),\n",
    "    df['AGE'].ge(70),\n",
    "]\n",
    "\n",
    "choices = [\"0-4\", \"5-12\", \"13-15\", \"16-17\", \"18-21\", \"22-25\",\n",
    "          \"26-29\", \"30-39\", \"40-49\", \"50-59\", \"60-64\", \"65-69\", \"70+\"]\n",
    "\n",
    "df['Age Group'] = np.select(conditions, choices, default = \"unknown\")"
   ]
  },
  {
   "cell_type": "markdown",
   "id": "fb5c3be8",
   "metadata": {},
   "source": [
    "## ACCIDENT_LOCATION\n",
    "\n",
    "Now we move to table \"ACCIDENT_LOCATION\""
   ]
  },
  {
   "cell_type": "code",
   "execution_count": 177,
   "id": "fe03355c",
   "metadata": {},
   "outputs": [
    {
     "name": "stdout",
     "output_type": "stream",
     "text": [
      "    ACCIDENT_NO  NODE_ID  ROAD_ROUTE_1   ROAD_NAME ROAD_TYPE    ROAD_NAME_INT  \\\n",
      "0  T20060000010    43078        2090.0      FOSTER    STREET           MCCRAE   \n",
      "1  T20060000018    29720        5057.0      HALLAM      ROAD  BELGRAVE-HALLAM   \n",
      "2  T20060000022   203074        9999.0      BROWNS      ROAD         TRUEMANS   \n",
      "3  T20060000023    55462        2400.0  SPRINGVALE      ROAD      KEYSBOROUGH   \n",
      "4  T20060000026   202988        9999.0   ELIZABETH    AVENUE        GREENHOOD   \n",
      "\n",
      "  ROAD_TYPE_INT  DISTANCE_LOCATION DIRECTION_LOCATION  NEAREST_KM_POST  \\\n",
      "0        STREET                0.0                 SW              NaN   \n",
      "1          ROAD               70.0                  S              NaN   \n",
      "2          ROAD              210.0                  W              NaN   \n",
      "3        AVENUE                0.0                  N              NaN   \n",
      "4      CRESCENT               20.0                  N              NaN   \n",
      "\n",
      "  OFF_ROAD_LOCATION  \n",
      "0               NaN  \n",
      "1               NaN  \n",
      "2               NaN  \n",
      "3               NaN  \n",
      "4               NaN  \n"
     ]
    }
   ],
   "source": [
    "df = pd.read_csv(r'data/ACCIDENT_LOCATION.csv')\n",
    "print(df.head())"
   ]
  },
  {
   "cell_type": "code",
   "execution_count": 178,
   "id": "d2901350",
   "metadata": {},
   "outputs": [
    {
     "name": "stdout",
     "output_type": "stream",
     "text": [
      "Accident null:  False\n",
      "Nodes null / smaller than 0:  False True\n"
     ]
    }
   ],
   "source": [
    "print(\"Accident null: \", df['ACCIDENT_NO'].isnull().any())\n",
    "\n",
    "print(\"Nodes null / smaller than 0: \", df['NODE_ID'].isnull().any(), (df['NODE_ID'] <= 0).any())"
   ]
  },
  {
   "cell_type": "code",
   "execution_count": 179,
   "id": "5ebd5d02",
   "metadata": {},
   "outputs": [],
   "source": [
    "df = df.loc[df['NODE_ID'] > 0]"
   ]
  },
  {
   "cell_type": "markdown",
   "id": "e1a8c03b",
   "metadata": {},
   "source": [
    "## NODE\n",
    "\n",
    "Now we will clean table \"NODE\""
   ]
  },
  {
   "cell_type": "code",
   "execution_count": 180,
   "id": "768edfe6",
   "metadata": {},
   "outputs": [
    {
     "name": "stdout",
     "output_type": "stream",
     "text": [
      "    ACCIDENT_NO  NODE_ID NODE_TYPE  VICGRID94_X  VICGRID94_Y   LGA_NAME  \\\n",
      "0  T20060002689       22         I  2495701.925  2411599.135  MELBOURNE   \n",
      "1  T20060010827       22         I  2495701.925  2411599.135  MELBOURNE   \n",
      "2  T20060017279       22         I  2495701.925  2411599.135  MELBOURNE   \n",
      "3  T20060041762       22         I  2495701.925  2411599.135  MELBOURNE   \n",
      "4  T20060047478       22         I  2495701.925  2411599.135  MELBOURNE   \n",
      "\n",
      "  LGA_NAME_ALL                     REGION_NAME DEG_URBAN_NAME        Lat  \\\n",
      "0    MELBOURNE  METROPOLITAN NORTH WEST REGION     MELB_URBAN -37.796596   \n",
      "1    MELBOURNE  METROPOLITAN NORTH WEST REGION     MELB_URBAN -37.796596   \n",
      "2    MELBOURNE  METROPOLITAN NORTH WEST REGION     MELB_URBAN -37.796596   \n",
      "3    MELBOURNE  METROPOLITAN NORTH WEST REGION     MELB_URBAN -37.796596   \n",
      "4    MELBOURNE  METROPOLITAN NORTH WEST REGION     MELB_URBAN -37.796596   \n",
      "\n",
      "         Long  POSTCODE_NO  \n",
      "0  144.951197         3051  \n",
      "1  144.951197         3051  \n",
      "2  144.951197         3051  \n",
      "3  144.951197         3051  \n",
      "4  144.951197         3051  \n"
     ]
    }
   ],
   "source": [
    "df = pd.read_csv(r'data/NODE.csv')\n",
    "print(df.head())"
   ]
  },
  {
   "cell_type": "code",
   "execution_count": 181,
   "id": "39b9f011",
   "metadata": {},
   "outputs": [
    {
     "name": "stdout",
     "output_type": "stream",
     "text": [
      "Accident null:  False\n",
      "Nodes null / smaller than 0:  False False\n",
      "Lat null / not a number:  False False\n",
      "Lat null / not a number:  False False\n"
     ]
    }
   ],
   "source": [
    "print(\"Accident null: \", df['ACCIDENT_NO'].isnull().any())\n",
    "\n",
    "print(\"Nodes null / smaller than 0: \", df['NODE_ID'].isnull().any(), (df['NODE_ID'] <= 0).any())\n",
    "\n",
    "print(\"Lat null / not a number: \", df['Lat'].isnull().any(), pd.to_numeric(df['Lat'], errors='coerce').isnull().any())\n",
    "\n",
    "print(\"Lat null / not a number: \", df['Long'].isnull().any(), pd.to_numeric(df['Long'], errors='coerce').isnull().any())"
   ]
  },
  {
   "cell_type": "markdown",
   "id": "c84aadb7",
   "metadata": {},
   "source": [
    "## ROAD SURFACE CONDITION\n",
    "\n",
    "Now we will clean table \"ROAD_SURFACE_COND\""
   ]
  },
  {
   "cell_type": "code",
   "execution_count": 185,
   "id": "6e6a39a9",
   "metadata": {
    "scrolled": true
   },
   "outputs": [
    {
     "name": "stdout",
     "output_type": "stream",
     "text": [
      "    ACCIDENT_NO  SURFACE_COND Surface Cond Desc  SURFACE_COND_SEQ\n",
      "0  T20060000010             1               Dry                 1\n",
      "1  T20060000018             1               Dry                 1\n",
      "2  T20060000022             1               Dry                 1\n",
      "3  T20060000023             1               Dry                 1\n",
      "4  T20060000026             1               Dry                 1\n"
     ]
    }
   ],
   "source": [
    "df = pd.read_csv(r'data/ROAD_SURFACE_COND.csv')\n",
    "print(df.head())"
   ]
  },
  {
   "cell_type": "code",
   "execution_count": 190,
   "id": "434ba6da",
   "metadata": {
    "scrolled": true
   },
   "outputs": [
    {
     "name": "stdout",
     "output_type": "stream",
     "text": [
      "Accident null:  False\n",
      "Surface condition null:  False False\n",
      "[1 2 9 3 5 4]\n",
      "['Dry' 'Wet' 'Unknown' 'Muddy' 'Icy' 'Snowy']\n"
     ]
    }
   ],
   "source": [
    "print(\"Accident null: \", df['ACCIDENT_NO'].isnull().any())\n",
    "\n",
    "print(\"Surface condition null: \", df['SURFACE_COND'].isnull().any(), pd.to_numeric(df['SURFACE_COND'], errors='coerce').isnull().any())\n",
    "\n",
    "print(df['SURFACE_COND'].unique())\n",
    "print(df['Surface Cond Desc'].unique())"
   ]
  },
  {
   "cell_type": "code",
   "execution_count": 192,
   "id": "cd32ae48",
   "metadata": {},
   "outputs": [],
   "source": [
    "conditions = [\n",
    "    df['SURFACE_COND'].eq(1),\n",
    "    df['SURFACE_COND'].eq(2),\n",
    "    df['SURFACE_COND'].eq(9),\n",
    "    df['SURFACE_COND'].eq(3),\n",
    "    df['SURFACE_COND'].eq(5),\n",
    "    df['SURFACE_COND'].eq(4)\n",
    "]\n",
    "\n",
    "choices = ['Dry', 'Wet', 'Unknown', 'Muddy', 'Icy', 'Snowy'] \n",
    "\n",
    "df['Surface Cond Desc'] = np.select(conditions, choices, default = \"Unknown\")"
   ]
  },
  {
   "cell_type": "markdown",
   "id": "84d2bac9",
   "metadata": {},
   "source": [
    "## ATMOSPERIC CONDITION\n",
    "\n",
    "Now we will clean table \"ATMOSPERIC_CONDITION\""
   ]
  },
  {
   "cell_type": "code",
   "execution_count": 195,
   "id": "2f7961c4",
   "metadata": {},
   "outputs": [
    {
     "name": "stdout",
     "output_type": "stream",
     "text": [
      "    ACCIDENT_NO  ATMOSPH_COND  ATMOSPH_COND_SEQ Atmosph Cond Desc\n",
      "0  T20060000010             1                 1             Clear\n",
      "1  T20060000018             1                 1             Clear\n",
      "2  T20060000022             1                 1             Clear\n",
      "3  T20060000023             1                 1             Clear\n",
      "4  T20060000026             1                 1             Clear\n"
     ]
    }
   ],
   "source": [
    "df = pd.read_csv(r'data/ATMOSPHERIC_COND.csv')\n",
    "print(df.head())"
   ]
  },
  {
   "cell_type": "code",
   "execution_count": 196,
   "id": "2b09208b",
   "metadata": {},
   "outputs": [
    {
     "name": "stdout",
     "output_type": "stream",
     "text": [
      "Accident null:  False\n",
      "Atmospheric condition null/ not a number:  False False\n",
      "[1 9 5 7 2 6 4 3]\n",
      "['Clear' 'Not known' 'Smoke' 'Strong winds' 'Raining' 'Dust' 'Fog'\n",
      " 'Snowing']\n"
     ]
    }
   ],
   "source": [
    "print(\"Accident null: \", df['ACCIDENT_NO'].isnull().any())\n",
    "\n",
    "print(\"Atmospheric condition null/ not a number: \", df['ATMOSPH_COND'].isnull().any(), pd.to_numeric(df['ATMOSPH_COND'], errors='coerce').isnull().any())\n",
    "\n",
    "print(df['ATMOSPH_COND'].unique())\n",
    "print(df['Atmosph Cond Desc'].unique())"
   ]
  },
  {
   "cell_type": "code",
   "execution_count": 197,
   "id": "d5da9748",
   "metadata": {},
   "outputs": [],
   "source": [
    "conditions = [\n",
    "    df['ATMOSPH_COND'].eq(1),\n",
    "    df['ATMOSPH_COND'].eq(9),\n",
    "    df['ATMOSPH_COND'].eq(5),\n",
    "    df['ATMOSPH_COND'].eq(7),\n",
    "    df['ATMOSPH_COND'].eq(2),\n",
    "    df['ATMOSPH_COND'].eq(6),\n",
    "    df['ATMOSPH_COND'].eq(4),\n",
    "    df['ATMOSPH_COND'].eq(3)\n",
    "]\n",
    "\n",
    "choices = ['Clear', 'Unknown', 'Smoke', 'Strong winds',\n",
    "           'Raining', 'Dust', 'Fog', 'Snowing']\n",
    "\n",
    "df['Atmosph Cond Desc'] = np.select(conditions, choices, default = \"Unknown\")"
   ]
  },
  {
   "cell_type": "markdown",
   "id": "65b3c614",
   "metadata": {},
   "source": [
    "## VEHICLE\n",
    "\n",
    "Lastly, we will clean the \"VEHICLE\" table"
   ]
  },
  {
   "cell_type": "code",
   "execution_count": null,
   "id": "0e3945ef",
   "metadata": {},
   "outputs": [],
   "source": [
    "df = pd.read_csv(r'data/VEHICLE.csv')\n",
    "print(df.head())"
   ]
  }
 ],
 "metadata": {
  "kernelspec": {
   "display_name": "Python 3 (ipykernel)",
   "language": "python",
   "name": "python3"
  },
  "language_info": {
   "codemirror_mode": {
    "name": "ipython",
    "version": 3
   },
   "file_extension": ".py",
   "mimetype": "text/x-python",
   "name": "python",
   "nbconvert_exporter": "python",
   "pygments_lexer": "ipython3",
   "version": "3.10.9"
  },
  "varInspector": {
   "cols": {
    "lenName": 16,
    "lenType": 16,
    "lenVar": 40
   },
   "kernels_config": {
    "python": {
     "delete_cmd_postfix": "",
     "delete_cmd_prefix": "del ",
     "library": "var_list.py",
     "varRefreshCmd": "print(var_dic_list())"
    },
    "r": {
     "delete_cmd_postfix": ") ",
     "delete_cmd_prefix": "rm(",
     "library": "var_list.r",
     "varRefreshCmd": "cat(var_dic_list()) "
    }
   },
   "types_to_exclude": [
    "module",
    "function",
    "builtin_function_or_method",
    "instance",
    "_Feature"
   ],
   "window_display": false
  }
 },
 "nbformat": 4,
 "nbformat_minor": 5
}
