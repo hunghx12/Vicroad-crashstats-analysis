{
 "cells": [
  {
   "cell_type": "code",
   "execution_count": 332,
   "id": "916f33c4",
   "metadata": {
    "scrolled": true
   },
   "outputs": [],
   "source": [
    "import pandas as pd\n",
    "import numpy as np"
   ]
  },
  {
   "cell_type": "markdown",
   "id": "2fa91097",
   "metadata": {},
   "source": [
    "## ACCIDENT\n",
    "\n",
    "First we will clean the table \"ACCIDENT\""
   ]
  },
  {
   "cell_type": "code",
   "execution_count": 333,
   "id": "934ef11a",
   "metadata": {},
   "outputs": [
    {
     "name": "stdout",
     "output_type": "stream",
     "text": [
      "    ACCIDENT_NO ACCIDENTDATE                    ACCIDENTTIME  ACCIDENT_TYPE  \\\n",
      "0  T20060000010   13/01/2006  12:42:00                                    1   \n",
      "1  T20060000018   13/01/2006  19:10:00                                    1   \n",
      "2  T20060000022   14/01/2006  12:10:00                                    7   \n",
      "3  T20060000023   14/01/2006  11:49:00                                    1   \n",
      "4  T20060000026   14/01/2006  10:45:00                                    1   \n",
      "\n",
      "               Accident Type Desc  DAY_OF_WEEK Day Week Description  DCA_CODE  \\\n",
      "0          Collision with vehicle            6               Friday       113   \n",
      "1          Collision with vehicle            6               Friday       113   \n",
      "2  Fall from or in moving vehicle            7             Saturday       190   \n",
      "3          Collision with vehicle            7             Saturday       130   \n",
      "4          Collision with vehicle            7             Saturday       121   \n",
      "\n",
      "                                  DCA Description DIRECTORY  ... NO_PERSONS  \\\n",
      "0  RIGHT NEAR (INTERSECTIONS ONLY)                      MEL  ...          6   \n",
      "1  RIGHT NEAR (INTERSECTIONS ONLY)                      MEL  ...          4   \n",
      "2        FELL IN/FROM VEHICLE                           MEL  ...          2   \n",
      "3  REAR END(VEHICLES IN SAME LANE)                      MEL  ...          2   \n",
      "4           RIGHT THROUGH                               MEL  ...          3   \n",
      "\n",
      "  NO_PERSONS_INJ_2 NO_PERSONS_INJ_3 NO_PERSONS_KILLED  NO_PERSONS_NOT_INJ  \\\n",
      "0                0                1                 0                   5   \n",
      "1                0                1                 0                   3   \n",
      "2                1                0                 0                   1   \n",
      "3                1                0                 0                   1   \n",
      "4                0                3                 0                   0   \n",
      "\n",
      "  POLICE_ATTEND  ROAD_GEOMETRY   Road Geometry Desc  SEVERITY  SPEED_ZONE  \n",
      "0             1              1   Cross intersection         3          60  \n",
      "1             1              2       T intersection         3          70  \n",
      "2             1              5  Not at intersection         2         100  \n",
      "3             1              2       T intersection         2          80  \n",
      "4             1              5  Not at intersection         3          50  \n",
      "\n",
      "[5 rows x 28 columns]\n"
     ]
    },
    {
     "name": "stderr",
     "output_type": "stream",
     "text": [
      "/var/folders/7_/nk16gz096gg0rlsq1ysz80300000gn/T/ipykernel_17781/3541470787.py:1: DtypeWarning: Columns (10,13) have mixed types. Specify dtype option on import or set low_memory=False.\n",
      "  df = pd.read_csv(r'../data/ACCIDENT.csv')\n"
     ]
    }
   ],
   "source": [
    "df = pd.read_csv(r'../data/ACCIDENT.csv')\n",
    "print(df.head())"
   ]
  },
  {
   "cell_type": "code",
   "execution_count": 334,
   "id": "71dce401",
   "metadata": {},
   "outputs": [
    {
     "name": "stdout",
     "output_type": "stream",
     "text": [
      "Accident null:  False\n",
      "Accident no is duplicated:  False\n",
      "All date are valid:  True\n",
      "All time are valid:  True\n",
      "Accident type null:  False , equal desc length:  True\n",
      "Day of week null:  False , equal desc length:  False\n",
      "DCA null:  False , equal desc length:  True\n",
      "Light condition null:  False , equal desc length:  True\n",
      "Nodes not a number:  False , smaller than 0:  True\n",
      "No of vehicles not a number:  False\n",
      "No of persons not a number:  False\n",
      "No of persons injured 2 not a number:  False\n",
      "No of persons injured 3 not a number:  False\n",
      "No of persons killed not a number:  False\n",
      "No of persons not injured not a number:  False\n",
      "No of polices attended not a number:  False\n",
      "Severity not a number:  False\n",
      "Road geometry null:  False , equal desc length:  True\n",
      "Speed zone not a number:  False\n"
     ]
    }
   ],
   "source": [
    "print(\"Accident null: \", df['ACCIDENT_NO'].isnull().any())\n",
    "\n",
    "print(\"Accident no is duplicated: \", df[\"ACCIDENT_NO\"].duplicated().any())\n",
    "\n",
    "print(\"All date are valid: \", pd.to_datetime(df['ACCIDENTDATE'], dayfirst= True, errors='coerce').notnull().all())\n",
    "\n",
    "print(\"All time are valid: \", pd.to_datetime(df['ACCIDENTTIME'], dayfirst= True, errors='coerce').notnull().all())\n",
    "\n",
    "print(\"Accident type null: \", df['ACCIDENT_TYPE'].isnull().any(), \", equal desc length: \", len(df['ACCIDENT_TYPE'].unique()) == len(df['Accident Type Desc'].unique()))\n",
    "\n",
    "print(\"Day of week null: \", df['DAY_OF_WEEK'].isnull().any(), \", equal desc length: \",len(df['DAY_OF_WEEK'].unique()) == len(df['Day Week Description'].unique()))\n",
    "\n",
    "print(\"DCA null: \", df['DCA_CODE'].isnull().any(), \", equal desc length: \",len(df['DCA_CODE'].unique()) == len(df['DCA Description'].unique()))\n",
    "\n",
    "print(\"Light condition null: \", df['LIGHT_CONDITION'].isnull().any(), \", equal desc length: \",len(df['LIGHT_CONDITION'].unique()) == len(df['Light Condition Desc'].unique()))\n",
    "\n",
    "print(\"Nodes not a number: \", pd.to_numeric(df['NODE_ID'], errors='coerce').isnull().any(), \", smaller than 0: \", (df['NODE_ID'] <= 0).any())\n",
    "\n",
    "print(\"No of vehicles not a number: \", pd.to_numeric(df['NO_OF_VEHICLES'], errors='coerce').isnull().any())\n",
    "\n",
    "print(\"No of persons not a number: \", pd.to_numeric(df['NO_PERSONS'], errors='coerce').isnull().any())\n",
    "\n",
    "print(\"No of persons injured 2 not a number: \", pd.to_numeric(df['NO_PERSONS_INJ_2'], errors='coerce').isnull().any())\n",
    "\n",
    "print(\"No of persons injured 3 not a number: \", pd.to_numeric(df['NO_PERSONS_INJ_3'], errors='coerce').isnull().any())\n",
    "\n",
    "print(\"No of persons killed not a number: \", pd.to_numeric(df['NO_PERSONS_KILLED'], errors='coerce').isnull().any())\n",
    "\n",
    "print(\"No of persons not injured not a number: \", pd.to_numeric(df['NO_PERSONS_NOT_INJ'], errors='coerce').isnull().any())\n",
    "\n",
    "print(\"No of polices attended not a number: \", pd.to_numeric(df['POLICE_ATTEND'], errors='coerce').isnull().any())\n",
    "\n",
    "print(\"Severity not a number: \", pd.to_numeric(df['SEVERITY'], errors='coerce').isnull().any())\n",
    "\n",
    "print(\"Road geometry null: \", df['ROAD_GEOMETRY'].isnull().any(), \", equal desc length: \", len(df['ROAD_GEOMETRY'].unique()) == len(df['Road Geometry Desc'].unique()))\n",
    "\n",
    "print(\"Speed zone not a number: \", pd.to_numeric(df['SPEED_ZONE'], errors='coerce').isnull().any())"
   ]
  },
  {
   "cell_type": "markdown",
   "id": "0f6818a8",
   "metadata": {},
   "source": [
    "We observe that there a some problems with the given dataset:\n",
    "- Day of week: 0 and 1 are both given to Sunday\n",
    "- Node ID: Contain negative values\n",
    "\n",
    "We fix this as following:"
   ]
  },
  {
   "cell_type": "code",
   "execution_count": 335,
   "id": "e267e796",
   "metadata": {},
   "outputs": [],
   "source": [
    "df.loc[df['DAY_OF_WEEK'] == 0, ['DAY_OF_WEEK']] = 1\n",
    "\n",
    "df = df.loc[df['NODE_ID'] > 0]"
   ]
  },
  {
   "cell_type": "code",
   "execution_count": 336,
   "id": "e30a9a2d",
   "metadata": {},
   "outputs": [],
   "source": [
    "conditions = [\n",
    "    df['DAY_OF_WEEK'].eq(1),\n",
    "    df['DAY_OF_WEEK'].eq(2),\n",
    "    df['DAY_OF_WEEK'].eq(3),\n",
    "    df['DAY_OF_WEEK'].eq(4),\n",
    "    df['DAY_OF_WEEK'].eq(5),\n",
    "    df['DAY_OF_WEEK'].eq(6),\n",
    "    df['DAY_OF_WEEK'].eq(7),\n",
    "]\n",
    "\n",
    "choices = ['Sunday', 'Monday', 'Tuesday', 'Wednesday', \n",
    "           'Thursday', 'Friday', 'Saturday']\n",
    "\n",
    "df['Day Week Description'] = np.select(conditions, choices, default = \"Unknown\")"
   ]
  },
  {
   "cell_type": "code",
   "execution_count": 337,
   "id": "2c4a1951",
   "metadata": {},
   "outputs": [],
   "source": [
    "conditions = [\n",
    "    df['ROAD_GEOMETRY'].eq(1),\n",
    "    df['ROAD_GEOMETRY'].eq(2),\n",
    "    df['ROAD_GEOMETRY'].eq(5),\n",
    "    df['ROAD_GEOMETRY'].eq(4),\n",
    "    df['ROAD_GEOMETRY'].eq(3),\n",
    "    df['ROAD_GEOMETRY'].eq(9),\n",
    "    df['ROAD_GEOMETRY'].eq(6),\n",
    "    df['ROAD_GEOMETRY'].eq(8),\n",
    "    df['ROAD_GEOMETRY'].eq(7),\n",
    "]\n",
    "\n",
    "choices = ['Cross intersection', 'T intersection', 'Not at intersection', 'Multiple intersection', \n",
    "           'Y intersection', 'Unknown', 'Dead end', 'Private property', 'Road closure']\n",
    "\n",
    "df['Road Geometry Desc'] = np.select(conditions, choices)"
   ]
  },
  {
   "cell_type": "code",
   "execution_count": 338,
   "id": "1cabaf40",
   "metadata": {},
   "outputs": [],
   "source": [
    "conditions = [\n",
    "    df['LIGHT_CONDITION'].eq(1),\n",
    "    df['LIGHT_CONDITION'].eq(3),\n",
    "    df['LIGHT_CONDITION'].eq(2),\n",
    "    df['LIGHT_CONDITION'].eq(5),\n",
    "    df['LIGHT_CONDITION'].eq(9),\n",
    "    df['LIGHT_CONDITION'].eq(6),\n",
    "    df['LIGHT_CONDITION'].eq(4)\n",
    "]\n",
    "\n",
    "choices = ['Day', 'Dark Street lights on', 'Dusk/Dawn', 'Dark No street lights', \n",
    "           'Unknown', 'Dark Street lights unknown', 'Dark Street lights off']\n",
    "\n",
    "df['Light Condition Desc'] = np.select(conditions, choices)"
   ]
  },
  {
   "cell_type": "code",
   "execution_count": 339,
   "id": "c657a79a",
   "metadata": {},
   "outputs": [],
   "source": [
    "df.to_csv(\"../data/clean/ACCIDENT.csv\", index = False)"
   ]
  },
  {
   "cell_type": "markdown",
   "id": "95202d47",
   "metadata": {},
   "source": [
    "## PERSON\n",
    "\n",
    "Now we'll move to table \"PERSON\""
   ]
  },
  {
   "cell_type": "code",
   "execution_count": 340,
   "id": "2c906cb7",
   "metadata": {},
   "outputs": [
    {
     "name": "stderr",
     "output_type": "stream",
     "text": [
      "/var/folders/7_/nk16gz096gg0rlsq1ysz80300000gn/T/ipykernel_17781/1350297660.py:1: DtypeWarning: Columns (6,9,10,13) have mixed types. Specify dtype option on import or set low_memory=False.\n",
      "  df = pd.read_csv(r'../data/PERSON.csv')\n"
     ]
    },
    {
     "name": "stdout",
     "output_type": "stream",
     "text": [
      "    ACCIDENT_NO PERSON_ID VEHICLE_ID SEX   AGE Age Group INJ_LEVEL  \\\n",
      "0  T20060000010        01          A   F   NaN   unknown         4   \n",
      "1  T20060000010        02          C   M  43.0     40-49         4   \n",
      "2  T20060000010        03          C   M  22.0     22-25         4   \n",
      "3  T20060000010        A           A   M  72.0       70+         4   \n",
      "4  T20060000010        B           B   F  62.0     60-64         3   \n",
      "\n",
      "  Inj Level Desc SEATING_POSITION HELMET_BELT_WORN ROAD_USER_TYPE  \\\n",
      "0    Not injured               LF                1              3   \n",
      "1    Not injured               LF                1              3   \n",
      "2    Not injured               LR                1              3   \n",
      "3    Not injured               D                 1              2   \n",
      "4   Other injury               D                 1              2   \n",
      "\n",
      "  Road User Type Desc LICENCE_STATE PEDEST_MOVEMENT  POSTCODE TAKEN_HOSPITAL  \\\n",
      "0          Passengers                             0    3130.0                  \n",
      "1          Passengers                             0    7310.0                  \n",
      "2          Passengers                             0    7310.0                  \n",
      "3             Drivers             V               0    3130.0                  \n",
      "4             Drivers             V               0       NaN              N   \n",
      "\n",
      "  EJECTED_CODE  \n",
      "0            0  \n",
      "1            0  \n",
      "2            0  \n",
      "3            0  \n",
      "4            0  \n"
     ]
    }
   ],
   "source": [
    "df = pd.read_csv(r'../data/PERSON.csv')\n",
    "print(df.head())"
   ]
  },
  {
   "cell_type": "code",
   "execution_count": 341,
   "id": "a69ad9a2",
   "metadata": {},
   "outputs": [
    {
     "name": "stdout",
     "output_type": "stream",
     "text": [
      "Accident null:  False\n",
      "Person ID null:  False\n",
      "Vehicle ID null:  False\n",
      "Sex null/ not F/M/U:  True\n",
      "Age is not a number:  True\n",
      "Injured level is not a number:  True , equal desc length:  False\n",
      "Seating position null or empty string:  True\n",
      "Road user type not a number:  True\n"
     ]
    }
   ],
   "source": [
    "print(\"Accident null: \", df['ACCIDENT_NO'].isnull().any())\n",
    "\n",
    "print(\"Person ID null: \", df['PERSON_ID'].isnull().any())\n",
    "\n",
    "print(\"Vehicle ID null: \", df['VEHICLE_ID'].isnull().any())\n",
    "\n",
    "print(\"Sex null/ not F/M/U: \", ((df['SEX'] != \"M\") & (df['SEX'] != \"F\") & (df['SEX'] != \"U\")).any())\n",
    "\n",
    "print(\"Age is not a number: \", pd.to_numeric(df['AGE'], errors='coerce').isnull().any())\n",
    "\n",
    "print(\"Injured level is not a number: \", pd.to_numeric(df['INJ_LEVEL'], errors='coerce').isnull().any(), \", equal desc length: \",len(df['INJ_LEVEL'].unique()) == len(df['Inj Level Desc'].unique()))\n",
    "\n",
    "print(\"Seating position null or empty string: \", (df['SEATING_POSITION'].isnull() | df['SEATING_POSITION'].str.isspace()).any())\n",
    "\n",
    "print(\"Road user type not a number: \", pd.to_numeric(df['ROAD_USER_TYPE'], errors='coerce').isnull().any())"
   ]
  },
  {
   "cell_type": "markdown",
   "id": "c23cb679",
   "metadata": {},
   "source": [
    "With the problems we found with `Sex`, `Age`, `INJ_LEVEL`, `SEATING_POSITION`, `ROAD_USER_TYPE`, we will fix as following:"
   ]
  },
  {
   "cell_type": "code",
   "execution_count": 342,
   "id": "53f8f5e0",
   "metadata": {},
   "outputs": [],
   "source": [
    "df.loc[(df['SEX'] != \"M\") & (df['SEX'] != \"F\") & (df['SEX'] != \"U\"), ['SEX']] = \"U\"\n",
    "df.loc[pd.to_numeric(df['AGE'], errors='coerce').isnull(), 'AGE'] = None\n",
    "\n",
    "df.loc[pd.to_numeric(df['INJ_LEVEL'], errors='coerce').isnull(), \"INJ_LEVEL\"] = None\n",
    "\n",
    "df.loc[(df['SEATING_POSITION'].isnull() | df['SEATING_POSITION'].str.isspace()), \"SEATING_POSITION\"] = None\n",
    "\n",
    "df.loc[pd.to_numeric(df['ROAD_USER_TYPE'], errors='coerce').isnull(), 'ROAD_USER_TYPE'] = 9\n",
    "df.loc[df['ROAD_USER_TYPE'] == 9, \"Road User Type Desc\"] = 'Unknown'\n",
    "df['ROAD_USER_TYPE'] = pd.to_numeric(df['ROAD_USER_TYPE'], errors='coerce')\n",
    "\n",
    "df['INJ_LEVEL'] = pd.to_numeric(df['INJ_LEVEL'], errors='coerce')\n",
    "\n",
    "df['HELMET_BELT_WORN'] = pd.to_numeric(df['HELMET_BELT_WORN'], errors='coerce')"
   ]
  },
  {
   "cell_type": "markdown",
   "id": "4a063c6e",
   "metadata": {},
   "source": [
    "Now we will standardise `Age Group`:"
   ]
  },
  {
   "cell_type": "code",
   "execution_count": 343,
   "id": "9cc5b63a",
   "metadata": {},
   "outputs": [
    {
     "data": {
      "text/plain": [
       "array(['unknown', '40-49', '22-25', '70+', '60-64', '30-39', '17-21',\n",
       "       '50-59', '26-29', '16-17', '13-15', '5-12', '0-4', '64-69'],\n",
       "      dtype=object)"
      ]
     },
     "execution_count": 343,
     "metadata": {},
     "output_type": "execute_result"
    }
   ],
   "source": [
    "df['Age Group'].unique()"
   ]
  },
  {
   "cell_type": "code",
   "execution_count": 344,
   "id": "84aeeaaf",
   "metadata": {},
   "outputs": [],
   "source": [
    "conditions = [\n",
    "    df['AGE'].between(0, 4, inclusive = 'both'),\n",
    "    df['AGE'].between(5, 12, inclusive = 'both'),\n",
    "    df['AGE'].between(13, 15, inclusive = 'both'),\n",
    "    df['AGE'].between(16, 17, inclusive = 'both'),\n",
    "    df['AGE'].between(18, 21, inclusive = 'both'),\n",
    "    df['AGE'].between(22, 25, inclusive = 'both'),\n",
    "    df['AGE'].between(26, 29, inclusive = 'both'),\n",
    "    df['AGE'].between(30, 39, inclusive = 'both'),\n",
    "    df['AGE'].between(40, 49, inclusive = 'both'),\n",
    "    df['AGE'].between(50, 59, inclusive = 'both'),\n",
    "    df['AGE'].between(60, 64, inclusive = 'both'),\n",
    "    df['AGE'].between(65, 69, inclusive = 'both'),\n",
    "    df['AGE'].ge(70),\n",
    "]\n",
    "\n",
    "choices = [\"0-4\", \"5-12\", \"13-15\", \"16-17\", \"18-21\", \"22-25\",\n",
    "          \"26-29\", \"30-39\", \"40-49\", \"50-59\", \"60-64\", \"65-69\", \"70+\"]\n",
    "\n",
    "df['Age Group'] = np.select(conditions, choices, default = \"Unknown\")"
   ]
  },
  {
   "cell_type": "markdown",
   "id": "2f951838",
   "metadata": {},
   "source": [
    "Now we standardise `Road User type description`:"
   ]
  },
  {
   "cell_type": "code",
   "execution_count": 345,
   "id": "780435ee",
   "metadata": {},
   "outputs": [
    {
     "name": "stdout",
     "output_type": "stream",
     "text": [
      "[3 2 5 4 9 1 6 7 8]\n",
      "['Passengers' 'Drivers' 'Pillion Passengers' 'Motorcyclists' 'Unknown'\n",
      " 'Pedestrians' 'Bicyclists']\n",
      "2128    Drivers\n",
      "2623    Drivers\n",
      "2637    Drivers\n",
      "3876    Drivers\n",
      "3974    Drivers\n",
      "Name: Road User Type Desc, dtype: object\n",
      "5765     Passengers\n",
      "6339     Passengers\n",
      "6340     Passengers\n",
      "6537     Passengers\n",
      "11222    Passengers\n",
      "Name: Road User Type Desc, dtype: object\n"
     ]
    }
   ],
   "source": [
    "print(df['ROAD_USER_TYPE'].unique())\n",
    "print(df['Road User Type Desc'].unique())\n",
    "\n",
    "print(df.loc[df['ROAD_USER_TYPE'] == 7, 'Road User Type Desc'].head())\n",
    "print(df.loc[df['ROAD_USER_TYPE'] == 8, 'Road User Type Desc'].head())"
   ]
  },
  {
   "cell_type": "code",
   "execution_count": 346,
   "id": "a0fc981e",
   "metadata": {},
   "outputs": [],
   "source": [
    "df.loc[df['ROAD_USER_TYPE'] == 7, 'ROAD_USER_TYPE'] = 2\n",
    "df.loc[df['ROAD_USER_TYPE'] == 8, 'ROAD_USER_TYPE'] = 3\n",
    "\n",
    "conditions = [\n",
    "    df['ROAD_USER_TYPE'].eq(3),\n",
    "    df['ROAD_USER_TYPE'].eq(2),\n",
    "    df['ROAD_USER_TYPE'].eq(5),\n",
    "    df['ROAD_USER_TYPE'].eq(4),\n",
    "    df['ROAD_USER_TYPE'].eq(9),\n",
    "    df['ROAD_USER_TYPE'].eq(1),\n",
    "    df['ROAD_USER_TYPE'].eq(6)\n",
    "]\n",
    "\n",
    "choices = ['Passengers', 'Drivers', 'Pillion Passengers', 'Motorcyclists', \n",
    "           'Unknown', 'Pedestrians', 'Bicyclists']\n",
    "\n",
    "df['Road User Type Desc'] = np.select(conditions, choices, default = \"Unknown\")"
   ]
  },
  {
   "cell_type": "code",
   "execution_count": 347,
   "id": "336f0a69",
   "metadata": {},
   "outputs": [
    {
     "name": "stdout",
     "output_type": "stream",
     "text": [
      "[ 4.  3.  2.  1. nan]\n",
      "['Not injured' 'Other injury' 'Serious injury' 'Fatality' 'Unknown']\n"
     ]
    }
   ],
   "source": [
    "print(df['INJ_LEVEL'].unique())\n",
    "print(df['Inj Level Desc'].unique())\n",
    "\n",
    "conditions = [\n",
    "    df['INJ_LEVEL'].eq(4),\n",
    "    df['INJ_LEVEL'].eq(3),\n",
    "    df['INJ_LEVEL'].eq(2),\n",
    "    df['INJ_LEVEL'].eq(1),\n",
    "    df['INJ_LEVEL'].eq(9),\n",
    "]\n",
    "\n",
    "choices = ['Not injured', 'Other injury', 'Serious injury', 'Fatality', 'Unknown']\n",
    "\n",
    "df['Inj Level Desc'] = np.select(conditions, choices, default = \"Unknown\")"
   ]
  },
  {
   "cell_type": "code",
   "execution_count": 348,
   "id": "d92b53a3",
   "metadata": {},
   "outputs": [],
   "source": [
    "df.to_csv(\"../data/clean/PERSON.csv\", index = False)"
   ]
  },
  {
   "cell_type": "markdown",
   "id": "fb5c3be8",
   "metadata": {},
   "source": [
    "## ACCIDENT_LOCATION\n",
    "\n",
    "Now we move to table \"ACCIDENT_LOCATION\""
   ]
  },
  {
   "cell_type": "code",
   "execution_count": 349,
   "id": "fe03355c",
   "metadata": {},
   "outputs": [
    {
     "name": "stdout",
     "output_type": "stream",
     "text": [
      "    ACCIDENT_NO  NODE_ID  ROAD_ROUTE_1   ROAD_NAME ROAD_TYPE    ROAD_NAME_INT  \\\n",
      "0  T20060000010    43078        2090.0      FOSTER    STREET           MCCRAE   \n",
      "1  T20060000018    29720        5057.0      HALLAM      ROAD  BELGRAVE-HALLAM   \n",
      "2  T20060000022   203074        9999.0      BROWNS      ROAD         TRUEMANS   \n",
      "3  T20060000023    55462        2400.0  SPRINGVALE      ROAD      KEYSBOROUGH   \n",
      "4  T20060000026   202988        9999.0   ELIZABETH    AVENUE        GREENHOOD   \n",
      "\n",
      "  ROAD_TYPE_INT  DISTANCE_LOCATION DIRECTION_LOCATION  NEAREST_KM_POST  \\\n",
      "0        STREET                0.0                 SW              NaN   \n",
      "1          ROAD               70.0                  S              NaN   \n",
      "2          ROAD              210.0                  W              NaN   \n",
      "3        AVENUE                0.0                  N              NaN   \n",
      "4      CRESCENT               20.0                  N              NaN   \n",
      "\n",
      "  OFF_ROAD_LOCATION  \n",
      "0               NaN  \n",
      "1               NaN  \n",
      "2               NaN  \n",
      "3               NaN  \n",
      "4               NaN  \n"
     ]
    }
   ],
   "source": [
    "df = pd.read_csv(r'../data/ACCIDENT_LOCATION.csv')\n",
    "print(df.head())"
   ]
  },
  {
   "cell_type": "code",
   "execution_count": 350,
   "id": "d2901350",
   "metadata": {},
   "outputs": [
    {
     "name": "stdout",
     "output_type": "stream",
     "text": [
      "Accident null:  False\n",
      "Nodes not a number:  False , smaller than 0:  True\n"
     ]
    }
   ],
   "source": [
    "print(\"Accident null: \", df['ACCIDENT_NO'].isnull().any())\n",
    "\n",
    "print(\"Nodes not a number: \", pd.to_numeric(df['NODE_ID'], errors='coerce').isnull().any(), \", smaller than 0: \", (df['NODE_ID'] <= 0).any())"
   ]
  },
  {
   "cell_type": "code",
   "execution_count": 351,
   "id": "5ebd5d02",
   "metadata": {},
   "outputs": [],
   "source": [
    "df = df.loc[df['NODE_ID'] > 0]"
   ]
  },
  {
   "cell_type": "code",
   "execution_count": 352,
   "id": "c4dd227a",
   "metadata": {},
   "outputs": [],
   "source": [
    "df.to_csv(\"../data/clean/ACCIDENT_LOCATION.csv\", index = False)"
   ]
  },
  {
   "cell_type": "markdown",
   "id": "e1a8c03b",
   "metadata": {},
   "source": [
    "## NODE\n",
    "\n",
    "Now we will clean table \"NODE\""
   ]
  },
  {
   "cell_type": "code",
   "execution_count": 353,
   "id": "768edfe6",
   "metadata": {},
   "outputs": [
    {
     "name": "stdout",
     "output_type": "stream",
     "text": [
      "    ACCIDENT_NO  NODE_ID NODE_TYPE  VICGRID94_X  VICGRID94_Y   LGA_NAME  \\\n",
      "0  T20060002689       22         I  2495701.925  2411599.135  MELBOURNE   \n",
      "1  T20060010827       22         I  2495701.925  2411599.135  MELBOURNE   \n",
      "2  T20060017279       22         I  2495701.925  2411599.135  MELBOURNE   \n",
      "3  T20060041762       22         I  2495701.925  2411599.135  MELBOURNE   \n",
      "4  T20060047478       22         I  2495701.925  2411599.135  MELBOURNE   \n",
      "\n",
      "  LGA_NAME_ALL                     REGION_NAME DEG_URBAN_NAME        Lat  \\\n",
      "0    MELBOURNE  METROPOLITAN NORTH WEST REGION     MELB_URBAN -37.796596   \n",
      "1    MELBOURNE  METROPOLITAN NORTH WEST REGION     MELB_URBAN -37.796596   \n",
      "2    MELBOURNE  METROPOLITAN NORTH WEST REGION     MELB_URBAN -37.796596   \n",
      "3    MELBOURNE  METROPOLITAN NORTH WEST REGION     MELB_URBAN -37.796596   \n",
      "4    MELBOURNE  METROPOLITAN NORTH WEST REGION     MELB_URBAN -37.796596   \n",
      "\n",
      "         Long  POSTCODE_NO  \n",
      "0  144.951197         3051  \n",
      "1  144.951197         3051  \n",
      "2  144.951197         3051  \n",
      "3  144.951197         3051  \n",
      "4  144.951197         3051  \n"
     ]
    }
   ],
   "source": [
    "df = pd.read_csv(r'../data/NODE.csv')\n",
    "print(df.head())"
   ]
  },
  {
   "cell_type": "code",
   "execution_count": 354,
   "id": "39b9f011",
   "metadata": {},
   "outputs": [
    {
     "name": "stdout",
     "output_type": "stream",
     "text": [
      "Accident null:  False\n",
      "Nodes not a number:  False , smaller than 0:  False\n",
      "Lat not a number:  False\n",
      "Long not a number:  False\n"
     ]
    }
   ],
   "source": [
    "print(\"Accident null: \", df['ACCIDENT_NO'].isnull().any())\n",
    "\n",
    "print(\"Nodes not a number: \", pd.to_numeric(df['NODE_ID'], errors='coerce').isnull().any(), \", smaller than 0: \", (df['NODE_ID'] <= 0).any())\n",
    "\n",
    "print(\"Lat not a number: \", pd.to_numeric(df['Lat'], errors='coerce').isnull().any())\n",
    "\n",
    "print(\"Long not a number: \", pd.to_numeric(df['Long'], errors='coerce').isnull().any())"
   ]
  },
  {
   "cell_type": "code",
   "execution_count": 355,
   "id": "c0878594",
   "metadata": {},
   "outputs": [],
   "source": [
    "df.to_csv(\"../data/clean/NODE.csv\", index = False)"
   ]
  },
  {
   "cell_type": "markdown",
   "id": "c84aadb7",
   "metadata": {},
   "source": [
    "## ROAD SURFACE CONDITION\n",
    "\n",
    "Now we will clean table \"ROAD_SURFACE_COND\""
   ]
  },
  {
   "cell_type": "code",
   "execution_count": 356,
   "id": "6e6a39a9",
   "metadata": {
    "scrolled": true
   },
   "outputs": [
    {
     "name": "stdout",
     "output_type": "stream",
     "text": [
      "    ACCIDENT_NO  SURFACE_COND Surface Cond Desc  SURFACE_COND_SEQ\n",
      "0  T20060000010             1               Dry                 1\n",
      "1  T20060000018             1               Dry                 1\n",
      "2  T20060000022             1               Dry                 1\n",
      "3  T20060000023             1               Dry                 1\n",
      "4  T20060000026             1               Dry                 1\n"
     ]
    }
   ],
   "source": [
    "df = pd.read_csv(r'../data/ROAD_SURFACE_COND.csv')\n",
    "print(df.head())"
   ]
  },
  {
   "cell_type": "code",
   "execution_count": 357,
   "id": "434ba6da",
   "metadata": {
    "scrolled": true
   },
   "outputs": [
    {
     "name": "stdout",
     "output_type": "stream",
     "text": [
      "Accident null:  False\n",
      "Surface condition null:  False False\n",
      "[1 2 9 3 5 4]\n",
      "['Dry' 'Wet' 'Unknown' 'Muddy' 'Icy' 'Snowy']\n"
     ]
    }
   ],
   "source": [
    "print(\"Accident null: \", df['ACCIDENT_NO'].isnull().any())\n",
    "\n",
    "print(\"Surface condition null: \", df['SURFACE_COND'].isnull().any(), pd.to_numeric(df['SURFACE_COND'], errors='coerce').isnull().any())\n",
    "\n",
    "print(df['SURFACE_COND'].unique())\n",
    "print(df['Surface Cond Desc'].unique())"
   ]
  },
  {
   "cell_type": "markdown",
   "id": "6041ddd8",
   "metadata": {},
   "source": [
    "We standardise `Surface Condition Description` as below:"
   ]
  },
  {
   "cell_type": "code",
   "execution_count": 358,
   "id": "cd32ae48",
   "metadata": {},
   "outputs": [],
   "source": [
    "conditions = [\n",
    "    df['SURFACE_COND'].eq(1),\n",
    "    df['SURFACE_COND'].eq(2),\n",
    "    df['SURFACE_COND'].eq(9),\n",
    "    df['SURFACE_COND'].eq(3),\n",
    "    df['SURFACE_COND'].eq(5),\n",
    "    df['SURFACE_COND'].eq(4)\n",
    "]\n",
    "\n",
    "choices = ['Dry', 'Wet', 'Unknown', 'Muddy', 'Icy', 'Snowy'] \n",
    "\n",
    "df['Surface Cond Desc'] = np.select(conditions, choices, default = \"Unknown\")"
   ]
  },
  {
   "cell_type": "code",
   "execution_count": 359,
   "id": "c8fd5337",
   "metadata": {},
   "outputs": [],
   "source": [
    "df.to_csv(\"../data/clean/ROAD_SURFACE_COND.csv\", index = False)"
   ]
  },
  {
   "cell_type": "markdown",
   "id": "84d2bac9",
   "metadata": {},
   "source": [
    "## ATMOSPERIC CONDITION\n",
    "\n",
    "Now we will clean table \"ATMOSPERIC_CONDITION\""
   ]
  },
  {
   "cell_type": "code",
   "execution_count": 360,
   "id": "2f7961c4",
   "metadata": {},
   "outputs": [
    {
     "name": "stdout",
     "output_type": "stream",
     "text": [
      "    ACCIDENT_NO  ATMOSPH_COND  ATMOSPH_COND_SEQ Atmosph Cond Desc\n",
      "0  T20060000010             1                 1             Clear\n",
      "1  T20060000018             1                 1             Clear\n",
      "2  T20060000022             1                 1             Clear\n",
      "3  T20060000023             1                 1             Clear\n",
      "4  T20060000026             1                 1             Clear\n"
     ]
    }
   ],
   "source": [
    "df = pd.read_csv(r'../data/ATMOSPHERIC_COND.csv')\n",
    "print(df.head())"
   ]
  },
  {
   "cell_type": "code",
   "execution_count": 361,
   "id": "2b09208b",
   "metadata": {},
   "outputs": [
    {
     "name": "stdout",
     "output_type": "stream",
     "text": [
      "Accident null:  False\n",
      "Atmospheric condition not a number:  False\n",
      "[1 9 5 7 2 6 4 3]\n",
      "['Clear' 'Not known' 'Smoke' 'Strong winds' 'Raining' 'Dust' 'Fog'\n",
      " 'Snowing']\n"
     ]
    }
   ],
   "source": [
    "print(\"Accident null: \", df['ACCIDENT_NO'].isnull().any())\n",
    "\n",
    "print(\"Atmospheric condition not a number: \", pd.to_numeric(df['ATMOSPH_COND'], errors='coerce').isnull().any())\n",
    "\n",
    "print(df['ATMOSPH_COND'].unique())\n",
    "print(df['Atmosph Cond Desc'].unique())"
   ]
  },
  {
   "cell_type": "code",
   "execution_count": 362,
   "id": "d5da9748",
   "metadata": {},
   "outputs": [],
   "source": [
    "conditions = [\n",
    "    df['ATMOSPH_COND'].eq(1),\n",
    "    df['ATMOSPH_COND'].eq(9),\n",
    "    df['ATMOSPH_COND'].eq(5),\n",
    "    df['ATMOSPH_COND'].eq(7),\n",
    "    df['ATMOSPH_COND'].eq(2),\n",
    "    df['ATMOSPH_COND'].eq(6),\n",
    "    df['ATMOSPH_COND'].eq(4),\n",
    "    df['ATMOSPH_COND'].eq(3)\n",
    "]\n",
    "\n",
    "choices = ['Clear', 'Unknown', 'Smoke', 'Strong winds',\n",
    "           'Raining', 'Dust', 'Fog', 'Snowing']\n",
    "\n",
    "df['Atmosph Cond Desc'] = np.select(conditions, choices, default = \"Unknown\")"
   ]
  },
  {
   "cell_type": "code",
   "execution_count": 363,
   "id": "8d19824b",
   "metadata": {},
   "outputs": [],
   "source": [
    "df.to_csv(\"../data/clean/ATMOSPHERIC_COND.csv\", index = False)"
   ]
  },
  {
   "cell_type": "markdown",
   "id": "65b3c614",
   "metadata": {},
   "source": [
    "## VEHICLE\n",
    "\n",
    "Lastly, we will clean the \"VEHICLE\" table"
   ]
  },
  {
   "cell_type": "code",
   "execution_count": 364,
   "id": "0e3945ef",
   "metadata": {},
   "outputs": [
    {
     "name": "stderr",
     "output_type": "stream",
     "text": [
      "/var/folders/7_/nk16gz096gg0rlsq1ysz80300000gn/T/ipykernel_17781/2455179206.py:1: DtypeWarning: Columns (3,25,26,35,36) have mixed types. Specify dtype option on import or set low_memory=False.\n",
      "  df = pd.read_csv(r'../data/VEHICLE.csv')\n"
     ]
    },
    {
     "name": "stdout",
     "output_type": "stream",
     "text": [
      "    ACCIDENT_NO VEHICLE_ID  VEHICLE_YEAR_MANUF VEHICLE_DCA_CODE  \\\n",
      "0  T20060000010          A              1996.0                2   \n",
      "1  T20060000010          B              2003.0                1   \n",
      "2  T20060000010          C              2001.0                8   \n",
      "3  T20060000018          A              1998.0                2   \n",
      "4  T20060000018          B              1991.0                1   \n",
      "\n",
      "  INITIAL_DIRECTION  ROAD_SURFACE_TYPE Road Surface Type Desc REG_STATE  \\\n",
      "0                SW                  1                  Paved         V   \n",
      "1                NW                  1                  Paved         V   \n",
      "2                NW                  1                  Paved         V   \n",
      "3                S                   1                  Paved         V   \n",
      "4                N                   1                  Paved         V   \n",
      "\n",
      "  VEHICLE_BODY_STYLE VEHICLE_MAKE  ... VEHICLE_COLOUR_1  VEHICLE_COLOUR_2  \\\n",
      "0             SEDAN        MITSUB  ...              MRN               ZZ    \n",
      "1             COUPE        UNKN    ...              BLU               ZZ    \n",
      "2             SEDAN        FORD    ...              YLW               ZZ    \n",
      "3             DC UTE       TOYOTA  ...              GRY               ZZ    \n",
      "4             SEDAN        SUBARU  ...              BLU               ZZ    \n",
      "\n",
      "   CAUGHT_FIRE INITIAL_IMPACT  LAMPS LEVEL_OF_DAMAGE OWNER_POSTCODE  \\\n",
      "0            2              F      2               3         3130.0   \n",
      "1            2              2      2               3         3977.0   \n",
      "2            2              F      2               2         3804.0   \n",
      "3            2              9      0               3         3175.0   \n",
      "4            2              F      0               5         3805.0   \n",
      "\n",
      "   TOWED_AWAY_FLAG  TRAFFIC_CONTROL  Traffic Control Desc  \n",
      "0                1                1        Stop-go lights  \n",
      "1                1                1        Stop-go lights  \n",
      "2                2                1        Stop-go lights  \n",
      "3                1                0            No control  \n",
      "4                1               11          Giveway sign  \n",
      "\n",
      "[5 rows x 38 columns]\n"
     ]
    }
   ],
   "source": [
    "df = pd.read_csv(r'../data/VEHICLE.csv')\n",
    "print(df.head())"
   ]
  },
  {
   "cell_type": "code",
   "execution_count": 365,
   "id": "d2cbfeec",
   "metadata": {},
   "outputs": [
    {
     "name": "stdout",
     "output_type": "stream",
     "text": [
      "Accident null:  False\n",
      "Vehicle null:  False\n",
      "Accident No and Vehicel ID is duplicated:  False\n",
      "Vehicle manifacture year not a number:  True\n",
      "Road Surface type not a number:  False\n",
      "Vehicle type not a number:  False\n"
     ]
    }
   ],
   "source": [
    "print(\"Accident null: \", df['ACCIDENT_NO'].isnull().any())\n",
    "\n",
    "print(\"Vehicle null: \", df['VEHICLE_ID'].isnull().any())\n",
    "\n",
    "print(\"Accident No and Vehicel ID is duplicated: \", df.duplicated(subset=['ACCIDENT_NO','VEHICLE_ID'], keep=False).any())\n",
    "\n",
    "print(\"Vehicle manifacture year not a number: \", pd.to_numeric(df['VEHICLE_YEAR_MANUF'], errors='coerce').isnull().any())\n",
    "\n",
    "print(\"Road Surface type not a number: \", pd.to_numeric(df['ROAD_SURFACE_TYPE'], errors='coerce').isnull().any())\n",
    "\n",
    "print(\"Vehicle type not a number: \", pd.to_numeric(df['VEHICLE_TYPE'], errors='coerce').isnull().any())"
   ]
  },
  {
   "cell_type": "code",
   "execution_count": 366,
   "id": "0bffa111",
   "metadata": {},
   "outputs": [],
   "source": [
    "df.loc[pd.to_numeric(df['VEHICLE_YEAR_MANUF'], errors='coerce').isnull(), 'VEHICLE_YEAR_MANUF'] = -1"
   ]
  },
  {
   "cell_type": "code",
   "execution_count": 367,
   "id": "15d989e8",
   "metadata": {},
   "outputs": [
    {
     "name": "stdout",
     "output_type": "stream",
     "text": [
      "[1 2 3 9]\n",
      "['Paved' 'Unpaved' 'Gravel' 'Unknown']\n"
     ]
    }
   ],
   "source": [
    "print(df['ROAD_SURFACE_TYPE'].unique())\n",
    "print(df['Road Surface Type Desc'].unique())"
   ]
  },
  {
   "cell_type": "code",
   "execution_count": 368,
   "id": "29f09ea7",
   "metadata": {},
   "outputs": [
    {
     "name": "stdout",
     "output_type": "stream",
     "text": [
      "[ 1  3  4 10 71  5  2  6 72 13 17  7 12  8 99  9 11 15 60 16 18 61 14 62\n",
      " 63 20 27 19]\n",
      "['Car' 'Taxi' 'Utility' 'Motor Cycle'\n",
      " 'Light Commercial Vehicle (Rigid) <= 4.5 Tonnes GVM' 'Panel Van'\n",
      " 'Station Wagon' 'Prime Mover (No of Trailers Unknown)'\n",
      " 'Heavy Vehicle (Rigid) > 4.5 Tonnes' 'Bicycle' 'Other Vehicle'\n",
      " 'Rigid Truck(Weight Unknown)' 'Motor Scooter' 'Bus/Coach' 'Unknown'\n",
      " 'Mini Bus(9-13 seats)' 'Moped' 'Tram' 'Prime Mover Only' 'Train'\n",
      " 'Not Applicable' 'Prime Mover - Single Trailer' 'Horse (ridden or drawn)'\n",
      " 'Prime Mover B-Double' 'Prime Mover B-Triple' 'Quad Bike'\n",
      " 'Plant machinery and Agricultural equipment' 'Parked trailers']\n"
     ]
    }
   ],
   "source": [
    "print(df['VEHICLE_TYPE'].unique())\n",
    "print(df['Vehicle Type Desc'].unique())"
   ]
  },
  {
   "cell_type": "code",
   "execution_count": 369,
   "id": "91c60c5f",
   "metadata": {},
   "outputs": [],
   "source": [
    "conditions = [\n",
    "    df['VEHICLE_TYPE'].eq(1),\n",
    "    df['VEHICLE_TYPE'].eq(3),\n",
    "    df['VEHICLE_TYPE'].eq(4),\n",
    "    df['VEHICLE_TYPE'].eq(10),\n",
    "    df['VEHICLE_TYPE'].eq(71),\n",
    "    df['VEHICLE_TYPE'].eq(5),\n",
    "    df['VEHICLE_TYPE'].eq(2),\n",
    "    df['VEHICLE_TYPE'].eq(6),\n",
    "    df['VEHICLE_TYPE'].eq(72),\n",
    "    df['VEHICLE_TYPE'].eq(13),\n",
    "    df['VEHICLE_TYPE'].eq(17),\n",
    "    df['VEHICLE_TYPE'].eq(7),\n",
    "    df['VEHICLE_TYPE'].eq(12),\n",
    "    df['VEHICLE_TYPE'].eq(8),\n",
    "    df['VEHICLE_TYPE'].eq(99),\n",
    "    df['VEHICLE_TYPE'].eq(9),\n",
    "    df['VEHICLE_TYPE'].eq(11),\n",
    "    df['VEHICLE_TYPE'].eq(15),\n",
    "    df['VEHICLE_TYPE'].eq(60),\n",
    "    df['VEHICLE_TYPE'].eq(16),\n",
    "    df['VEHICLE_TYPE'].eq(18),\n",
    "    df['VEHICLE_TYPE'].eq(61),\n",
    "    df['VEHICLE_TYPE'].eq(14),\n",
    "    df['VEHICLE_TYPE'].eq(62),\n",
    "    df['VEHICLE_TYPE'].eq(63),\n",
    "    df['VEHICLE_TYPE'].eq(20),\n",
    "    df['VEHICLE_TYPE'].eq(27),\n",
    "    df['VEHICLE_TYPE'].eq(19),\n",
    "]\n",
    "\n",
    "choices = ['Car', 'Taxi', 'Utility', 'Motor Cycle', 'Light Commercial Vehicle (Rigid) <= 4.5 Tonnes GVM', \n",
    "           'Panel Van', 'Station Wagon', 'Prime Mover (No of Trailers Unknown)',\n",
    "           'Heavy Vehicle (Rigid) > 4.5 Tonnes', 'Bicycle', 'Other Vehicle', 'Rigid Truck(Weight Unknown)', \n",
    "           'Motor Scooter', 'Bus/Coach', 'Unknown', 'Mini Bus(9-13 seats)', 'Moped', 'Tram', \n",
    "           'Prime Mover Only', 'Train', 'Not Applicable', 'Prime Mover - Single Trailer', \n",
    "           'Horse (ridden or drawn)', 'Prime Mover B-Double', 'Prime Mover B-Triple', 'Quad Bike',\n",
    "           'Plant machinery and Agricultural equipment', 'Parked trailers']\n",
    "\n",
    "df['Vehicle Type Desc'] = np.select(conditions, choices, default = \"Unknown\")"
   ]
  },
  {
   "cell_type": "code",
   "execution_count": 370,
   "id": "46f0ba2b",
   "metadata": {},
   "outputs": [],
   "source": [
    "conditions = [\n",
    "    df['ROAD_SURFACE_TYPE'].eq(1),\n",
    "    df['ROAD_SURFACE_TYPE'].eq(2),\n",
    "    df['ROAD_SURFACE_TYPE'].eq(3),\n",
    "    df['ROAD_SURFACE_TYPE'].eq(9),\n",
    "]\n",
    "\n",
    "choices = ['Paved', 'Unpaved', 'Gravel', 'Unknown']\n",
    "\n",
    "df['Road Surface Type Desc'] = np.select(conditions, choices, default = \"Unknown\")"
   ]
  },
  {
   "cell_type": "code",
   "execution_count": 371,
   "id": "364e28e3",
   "metadata": {},
   "outputs": [
    {
     "data": {
      "text/plain": [
       "array(['SEDAN', 'COUPE', 'DC UTE', 'SOLO', 'T TRK', 'VAN', 'S WAG',\n",
       "       'WAGON', 'P MVR', 'UTIL', '', 'MULTI', 'TRAY', 'SCOOTR', 'CYCLE',\n",
       "       'BUS', 'CONVRT', 'TIPPER', 'MULTIX', 'RDSTR', 'P VAN', 'TRACT',\n",
       "       'G UNIT', 'SP VEH', 'UNK', 'SED', 'S TRL', 'C MIX', 'TANKER',\n",
       "       'TOURER', 'EXCVTR', 'T SDS', 'MOPED', 'PBCYC', 'M PLAT', 'SWEEP',\n",
       "       'TRAIN', 'C CHAS', 'HOE', 'FRAME', 'P CARR', 'FLUSH', 'F LIFT',\n",
       "       'CRANE', 'BD/PMR', 'SPREAD', 'MISC', 'CARVN', 'CHAIR', 'BOX',\n",
       "       'SERV', 'HOR FL', 'TILTER', 'S AMRV', 'AMB', 'S TIP', 'LOADER',\n",
       "       'M TRLY', 'EDUCTR', 'WINCH', 'JEEP', 'B HOE', 'R AMUS', 'S CAR',\n",
       "       'DUMPER', 'ST TRK', 'AG IMP', 'SPRAY', 'FLOAT', 'TRAM', 'F UNIT',\n",
       "       'C CARR', 'CONT-C', 'PBVEH', 'ARM V', 'WRKP U', 'ROLLER', 'GRADER',\n",
       "       'DOZER', 'AFRAME', 'SKIP C', 'B BIN', 'CARAVN', 'BUGGY', 'TRICAR',\n",
       "       'MACH', 'WHCBUG', 'COMPAC', 'S AMUS', 'T JINK', 'MOWER', 'TOWER',\n",
       "       'AMUS', 'MACHNE', 'S TRAY', 'SKIP/C', 'SNOW M', 'P', 'C PUMP', '-',\n",
       "       'WAGNM', 'AGR', 'B TR', 'S TANK', 'FRE', 'HATCH', 'TRA', 'L MARK',\n",
       "       'UTI', 'CONT C', 'CONVN', 'MAC', 'CVN', 'SWV1', 'SWV2', 'OTH',\n",
       "       'HORSE', 'S BULK', 'INDCON', 'NFR', 'IND/CN', 'TRITRA', 'TRAILR',\n",
       "       'L FRM', '4WD', 'M STND', 'OUTFIT', 'LADDER', 'M CCH', 'DITCH',\n",
       "       'HEARSE', 'SKELTN', 'PMAMUS', 'POLERC', 'M BILL', 'AMPHIB'],\n",
       "      dtype=object)"
      ]
     },
     "execution_count": 371,
     "metadata": {},
     "output_type": "execute_result"
    }
   ],
   "source": [
    "df['VEHICLE_BODY_STYLE'] = df['VEHICLE_BODY_STYLE'].str.strip()\n",
    "df['VEHICLE_BODY_STYLE'].unique()"
   ]
  },
  {
   "cell_type": "code",
   "execution_count": 372,
   "id": "624ab3bc",
   "metadata": {},
   "outputs": [],
   "source": [
    "df.loc[df['VEHICLE_BODY_STYLE'] == '-', 'VEHICLE_BODY_STYLE'] = \"Unknown\""
   ]
  },
  {
   "cell_type": "code",
   "execution_count": 373,
   "id": "38d43b1c",
   "metadata": {},
   "outputs": [],
   "source": [
    "df.to_csv(\"../data/clean/VEHICLE.csv\", index = False)"
   ]
  }
 ],
 "metadata": {
  "kernelspec": {
   "display_name": "Python 3 (ipykernel)",
   "language": "python",
   "name": "python3"
  },
  "language_info": {
   "codemirror_mode": {
    "name": "ipython",
    "version": 3
   },
   "file_extension": ".py",
   "mimetype": "text/x-python",
   "name": "python",
   "nbconvert_exporter": "python",
   "pygments_lexer": "ipython3",
   "version": "3.10.9"
  },
  "varInspector": {
   "cols": {
    "lenName": 16,
    "lenType": 16,
    "lenVar": 40
   },
   "kernels_config": {
    "python": {
     "delete_cmd_postfix": "",
     "delete_cmd_prefix": "del ",
     "library": "var_list.py",
     "varRefreshCmd": "print(var_dic_list())"
    },
    "r": {
     "delete_cmd_postfix": ") ",
     "delete_cmd_prefix": "rm(",
     "library": "var_list.r",
     "varRefreshCmd": "cat(var_dic_list()) "
    }
   },
   "types_to_exclude": [
    "module",
    "function",
    "builtin_function_or_method",
    "instance",
    "_Feature"
   ],
   "window_display": false
  }
 },
 "nbformat": 4,
 "nbformat_minor": 5
}
